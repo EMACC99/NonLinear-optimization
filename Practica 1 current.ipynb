{
 "cells": [
  {
   "source": [
    "# Practica 1\n",
    "## Eduardo Ceja\n",
    "## Optimizacion no Lineal"
   ],
   "cell_type": "markdown",
   "metadata": {}
  },
  {
   "cell_type": "code",
   "execution_count": 1,
   "metadata": {},
   "outputs": [],
   "source": [
    "import copy\n",
    "import random\n",
    "import numpy as np\n",
    "from math import atan, pi\n",
    "import matplotlib.pyplot as plt"
   ]
  },
  {
   "source": [
    " ## Parte 1\n",
    " Minimizar la funcion:\n",
    " $$ f(x) = 0.65 - \\frac{0.75}{1 + x^2} - 0.65x \\tan^{-1}(\\frac{1}{x}) $$\n",
    "\n",
    "\n",
    "En el intervalo $[0,3]$ con una precision $0.001$ utilizando los metodos de:\n",
    " * Busqueda Exhaustiva\n",
    " * Division de intervalos por la mitad\n",
    " * Fibonacci\n",
    " * Seccion dorada"
   ],
   "cell_type": "markdown",
   "metadata": {}
  },
  {
   "cell_type": "code",
   "execution_count": 2,
   "metadata": {},
   "outputs": [],
   "source": [
    "counts = 0"
   ]
  },
  {
   "cell_type": "code",
   "execution_count": 3,
   "metadata": {},
   "outputs": [],
   "source": [
    "def f(x):\n",
    "    global counts\n",
    "    counts += 1\n",
    "    return 0.65 - (0.75/(1+ x**2)) - 0.65*x*atan(1/x) if x!= 0 else 0.65 - (0.75/(1+ x**2))"
   ]
  },
  {
   "cell_type": "code",
   "execution_count": 4,
   "metadata": {},
   "outputs": [],
   "source": [
    "a = 0\n",
    "b = 3"
   ]
  },
  {
   "source": [
    "### Busqueda exhaustiva"
   ],
   "cell_type": "markdown",
   "metadata": {}
  },
  {
   "cell_type": "code",
   "execution_count": 5,
   "metadata": {},
   "outputs": [],
   "source": [
    "def busqueda_exhaustiva(x1,x2,x3,b,delta_x):\n",
    "    while x3 <= b:\n",
    "        if x1 == 0 or x2 == 0 or x3 == 0:\n",
    "            x1 = x2\n",
    "            x2 = x3\n",
    "            x3 = x2 + delta_x\n",
    "            continue\n",
    "\n",
    "        try:\n",
    "            f1 = f2\n",
    "            f2 = f3            \n",
    "        except:\n",
    "            f1 = f(x1)\n",
    "            f2 = f(x2)\n",
    "    \n",
    "        f3 = f(x3)\n",
    "        if f1 >= f2 and f2 <= f3:\n",
    "            return x1,x3\n",
    "\n",
    "        x1 = x2\n",
    "        x2 = x3\n",
    "        x3 = x2 + delta_x\n",
    "    return None,None"
   ]
  },
  {
   "cell_type": "code",
   "execution_count": 6,
   "metadata": {},
   "outputs": [],
   "source": [
    "delta_x = 0.0005\n",
    "x1 = a\n",
    "x2 = x1 + delta_x\n",
    "x3 = x2 + delta_x"
   ]
  },
  {
   "cell_type": "code",
   "execution_count": 7,
   "metadata": {},
   "outputs": [
    {
     "output_type": "stream",
     "name": "stdout",
     "text": [
      "Intervalo de la funcion: (0.481,0.482)\nNumero de evaluaciones 963\n"
     ]
    }
   ],
   "source": [
    "a_exa, b_exa = busqueda_exhaustiva(x1,x2,x3,b,delta_x)\n",
    "print(f\"Intervalo de la funcion: ({a_exa:.3f},{b_exa:.3f})\\nNumero de evaluaciones {counts}\")\n"
   ]
  },
  {
   "source": [
    "### Division de intervalos por la mitad"
   ],
   "cell_type": "markdown",
   "metadata": {}
  },
  {
   "cell_type": "code",
   "execution_count": 8,
   "metadata": {},
   "outputs": [
    {
     "output_type": "execute_result",
     "data": {
      "text/plain": [
       "0"
      ]
     },
     "metadata": {},
     "execution_count": 8
    }
   ],
   "source": [
    "counts = 0; counts"
   ]
  },
  {
   "cell_type": "code",
   "execution_count": 9,
   "metadata": {},
   "outputs": [],
   "source": [
    "def division_mitad(a : float ,b: float ,epsilon: float) -> tuple:\n",
    "    L = b-a\n",
    "\n",
    "    xm = (a+b)/2\n",
    "    x1 = a + (L/4)\n",
    "    x2 = b - (L/4)\n",
    "\n",
    "    fm = f(xm)\n",
    "    \n",
    "    while abs(L) > epsilon:\n",
    "        f1 = f(x1)\n",
    "        if  f1 < fm:\n",
    "            b = xm\n",
    "            xm = x1\n",
    "            fm = f1\n",
    "        else:\n",
    "\n",
    "            f2 =f(x2)\n",
    "            if f2 < fm:\n",
    "                a = xm\n",
    "                xm = x2\n",
    "                fm = f2\n",
    "            else:\n",
    "                a = x1\n",
    "                b = x2\n",
    "        \n",
    "        L = b-a\n",
    "        \n",
    "        x1 = a + (L/4)\n",
    "        x2 = b - (L/4)\n",
    "    return a,b"
   ]
  },
  {
   "cell_type": "code",
   "execution_count": 10,
   "metadata": {},
   "outputs": [
    {
     "output_type": "stream",
     "name": "stdout",
     "text": [
      "Intervalo de la funcion: (0.480,0.481)\nNumero de evaluaciones 20\n"
     ]
    }
   ],
   "source": [
    "a_mitad, b_mitad = division_mitad(a,b,0.001)\n",
    "print(f\"Intervalo de la funcion: ({a_mitad:.3f},{b_mitad:.3f})\\nNumero de evaluaciones {counts}\")"
   ]
  },
  {
   "source": [
    "### Fibonacci"
   ],
   "cell_type": "markdown",
   "metadata": {}
  },
  {
   "cell_type": "code",
   "execution_count": 11,
   "metadata": {},
   "outputs": [
    {
     "output_type": "execute_result",
     "data": {
      "text/plain": [
       "0"
      ]
     },
     "metadata": {},
     "execution_count": 11
    }
   ],
   "source": [
    "counts = 0; counts"
   ]
  },
  {
   "cell_type": "code",
   "execution_count": 12,
   "metadata": {},
   "outputs": [],
   "source": [
    "def fibonacci(N) -> list:\n",
    "    fibonacci_secuence = [1, 1]\n",
    "    if N == 0 or N == 1:\n",
    "        return fibonacci_secuence\n",
    "    for i in range(2, N + 1):\n",
    "        next_fib = fibonacci_secuence[i - 1] + fibonacci_secuence[i - 2]\n",
    "        fibonacci_secuence.append(next_fib)\n",
    "\n",
    "    return fibonacci_secuence"
   ]
  },
  {
   "cell_type": "code",
   "execution_count": 13,
   "metadata": {},
   "outputs": [],
   "source": [
    "def fibonacci_search(a,b,N) -> tuple:\n",
    "    k = 2\n",
    "    fib_secuence = fibonacci(N)\n",
    "    L = (b-a)\n",
    "    \n",
    "    Lk_estrella = (fib_secuence[N-k]/fib_secuence[-1]) * L\n",
    "    x1 = a + Lk_estrella\n",
    "    x2 = b - Lk_estrella\n",
    "    f1 = f(x1)\n",
    "    f2 = f(x2)\n",
    "    changed_a = False\n",
    "    while True:\n",
    "        if f1 > f2:\n",
    "            a = x1\n",
    "            f1 = f2\n",
    "            changed_a = True\n",
    "        else:\n",
    "            b = x2\n",
    "            #cambio x2 = x1\n",
    "            f2 = f1\n",
    "        k += 1\n",
    "        if k > N:\n",
    "            break\n",
    "        \n",
    "        Lk_estrella = (fib_secuence[N-k]/fib_secuence[-1]) * L\n",
    "        x1 = a + Lk_estrella\n",
    "        x2 = b - Lk_estrella\n",
    "        if changed_a:\n",
    "            f2 = f(x2)\n",
    "            changed_a = False\n",
    "        else:\n",
    "            f1 =f(x1)\n",
    "\n",
    "    return a,b"
   ]
  },
  {
   "cell_type": "code",
   "execution_count": 14,
   "metadata": {},
   "outputs": [
    {
     "output_type": "stream",
     "name": "stdout",
     "text": [
      "Intervalo de la funcion: (0.480,0.481)\nNumero de evaluaciones 18\n"
     ]
    }
   ],
   "source": [
    "a_fib, b_fib = fibonacci_search(a,b,18)\n",
    "print(f\"Intervalo de la funcion: ({a_fib:.3f},{b_fib:.3f})\\nNumero de evaluaciones {counts}\")"
   ]
  },
  {
   "cell_type": "code",
   "execution_count": 15,
   "metadata": {},
   "outputs": [
    {
     "output_type": "stream",
     "name": "stdout",
     "text": [
      "18 4181\n"
     ]
    }
   ],
   "source": [
    "fib = fibonacci(50)\n",
    "for i,j in enumerate(fib):\n",
    "    if j >= 3000:\n",
    "        print(i,j)\n",
    "        break"
   ]
  },
  {
   "source": [
    "### Seccion Dorada"
   ],
   "cell_type": "markdown",
   "metadata": {}
  },
  {
   "cell_type": "code",
   "execution_count": 16,
   "metadata": {},
   "outputs": [
    {
     "output_type": "execute_result",
     "data": {
      "text/plain": [
       "0"
      ]
     },
     "metadata": {},
     "execution_count": 16
    }
   ],
   "source": [
    "counts = 0; counts"
   ]
  },
  {
   "cell_type": "code",
   "execution_count": 17,
   "metadata": {},
   "outputs": [],
   "source": [
    "def w_to_x(w,a,b):\n",
    "    return (w*(b-a)) + a"
   ]
  },
  {
   "cell_type": "code",
   "execution_count": 18,
   "metadata": {},
   "outputs": [],
   "source": [
    "def seccion_dorada(a,b, epsilon):\n",
    "    tao = 0.618\n",
    "    aw = 0\n",
    "    bw = 1\n",
    "    Lw = 1\n",
    "\n",
    "    w1 = aw + tao*Lw #mi punto 1 +  tao\n",
    "    w2 = bw - tao*Lw #punto 1- tao\n",
    "    f1 = f(w_to_x(w1,a,b))\n",
    "    f2 = f(w_to_x(w2,a,b))\n",
    "    updated_a = False\n",
    "    while True:\n",
    "\n",
    "        if f1 < f2:\n",
    "            aw = w2\n",
    "            updated_a = True\n",
    "        else:\n",
    "            bw = w1\n",
    "\n",
    "        Lw = bw - aw\n",
    "\n",
    "        if Lw <= (epsilon/(b-a)):\n",
    "            break\n",
    "        \n",
    "        if updated_a:\n",
    "            w2 = w1\n",
    "            f2 =f1\n",
    "            w1 = aw + tao*Lw \n",
    "            f1 = f(w_to_x(w1,a,b))\n",
    "            updated_a = False\n",
    "        else:\n",
    "            f1 = f2\n",
    "            w1 = w2\n",
    "            w2 = bw - tao*Lw \n",
    "            f2 = f(w_to_x(w2,a,b))\n",
    "\n",
    "    return w_to_x(aw,a,b),w_to_x(bw,a,b)"
   ]
  },
  {
   "cell_type": "code",
   "execution_count": 19,
   "metadata": {},
   "outputs": [
    {
     "output_type": "stream",
     "name": "stdout",
     "text": [
      "Intervalo de la funcion: (0.481,0.481)\nNumero de evaluaciones 18\n"
     ]
    }
   ],
   "source": [
    "a_golden, b_golden = seccion_dorada(a,b,0.001)\n",
    "print(f\"Intervalo de la funcion: ({a_golden:.3f},{b_golden:.3f})\\nNumero de evaluaciones {counts}\")"
   ]
  },
  {
   "cell_type": "code",
   "execution_count": 20,
   "metadata": {},
   "outputs": [
    {
     "output_type": "execute_result",
     "data": {
      "text/plain": [
       "(0.48064628293683687, 0.48148559860640194)"
      ]
     },
     "metadata": {},
     "execution_count": 20
    }
   ],
   "source": [
    "a_golden,b_golden"
   ]
  },
  {
   "source": [
    "## Parte 2\n",
    "### Iteraciones Teoricas\n",
    "\n",
    "* **Busqueda exhaustiva**:\n",
    "\n",
    "Para este metodo, sabemos que la precision esta definida como:\n",
    "$$ \\varepsilon = \\frac{2(b-a)}{n}$$\n",
    "\n",
    "Donde $\\varepsilon$ es la precision a la que se quiere llegar, $a$ y $b$ son el principio y el final del intervalo y $n$ el numero de iteraciones. Como tenemos el requerimiento de que $\\varepsilon = 0.001$, tenemos que despejar $n$:\n",
    "\n",
    "$$n = \\frac{2(b-a)}{\\varepsilon}$$\n",
    "Sustituyendo:\n",
    "$$\n",
    " n = \\frac{2(3-0)}{0.001} \\\\\n",
    " n = \\frac{6}{0.001} \\\\\n",
    " n = 6,000\n",
    "$$\n",
    "\n",
    "* **Division por la mitad**:\n",
    "\n",
    "Este metodo, tiene su precision definia como:\n",
    "$$ \\varepsilon = (\\frac{1}{2})^{\\frac{n}{2}}L_0 $$\n",
    "\n",
    "Para despejar $n$:\n",
    "\n",
    "$$n = 2log_{1/2}(\\varepsilon / L_0)$$\n",
    "\n",
    "Ahora sustituyendo:\n",
    "\n",
    "$$\n",
    " n = 2log_{1/2}(0.001 / (3-0)) \\\\\n",
    " n = 2log_{1/2}(0.001/3) \\\\\n",
    " n \\approx 23.10149\n",
    "$$\n",
    "\n",
    "* **Fibonacci**:\n",
    "\n",
    "La presicion para este metodo esta definida por\n",
    "\n",
    "$$ \\varepsilon = \\frac{1}{F_n}L$$\n",
    "\n",
    "Despejando $F_n$\n",
    "\n",
    "$$\n",
    "F_n = \\frac{L}{\\varepsilon}\n",
    "$$\n",
    "\n",
    "Sustituyendo:\n",
    "\n",
    "$$\n",
    "F_n = \\frac{3-0}{0.001} \\\\\n",
    "F_n = \\frac{3}{0.001} \\\\\n",
    "F_n \\approx 3000 \n",
    "$$\n",
    "Siguendo la sucesion de Fibonacci, vemos que el numero $n$ correspondiente que es mayor es $18$ \n",
    "\n",
    "* **Seccion dorada**:\n",
    "\n",
    "La precision se define como:\n",
    "\n",
    "$$ \\varepsilon = \\tau^{(n-1)} * (b-a)$$\n",
    "\n",
    "Donde $\\tau = 0.618$\n",
    "Para despejar $n$, nos queda como:\n",
    "$$\n",
    "\\varepsilon = \\tau^{(n-1)} * (b-a) \\\\\n",
    "\\frac{\\varepsilon}{(b-a)} = \\tau^{(n-1)} \\\\\n",
    "\\tau^{(n-1)} = \\frac{\\varepsilon}{(b-a)} \\\\\n",
    "log_\\tau(\\tau^{(n-1)}) = log_\\tau(\\varepsilon/(b-a)) \\\\\n",
    "n-1  = log_\\tau(\\varepsilon/(b-a)) \\\\\n",
    "n = log_\\tau(\\varepsilon/(b-a)) + 1\n",
    "$$\n",
    "\n",
    "Sustituyendo:\n",
    "$$\n",
    "n = log_\\tau(\\varepsilon/(b-a)) + 1 \\\\\n",
    "n = log_\\tau(0.001/(3-0)) + 1\\\\\n",
    "n = log_\\tau(0.001/3) + 1 \\\\\n",
    "n \\approx 16.636026 + 1 \\\\\n",
    "n \\approx 17.636026\n",
    "$$\n"
   ],
   "cell_type": "markdown",
   "metadata": {}
  },
  {
   "source": [
    "## Parte 3"
   ],
   "cell_type": "markdown",
   "metadata": {}
  },
  {
   "cell_type": "code",
   "execution_count": 21,
   "metadata": {},
   "outputs": [
    {
     "output_type": "execute_result",
     "data": {
      "text/plain": [
       "[<matplotlib.lines.Line2D at 0x242b7ad3fc8>]"
      ]
     },
     "metadata": {},
     "execution_count": 21
    },
    {
     "output_type": "display_data",
     "data": {
      "text/plain": "<Figure size 432x288 with 1 Axes>",
      "image/svg+xml": "<?xml version=\"1.0\" encoding=\"utf-8\" standalone=\"no\"?>\r\n<!DOCTYPE svg PUBLIC \"-//W3C//DTD SVG 1.1//EN\"\r\n  \"http://www.w3.org/Graphics/SVG/1.1/DTD/svg11.dtd\">\r\n<!-- Created with matplotlib (https://matplotlib.org/) -->\r\n<svg height=\"248.518125pt\" version=\"1.1\" viewBox=\"0 0 386.845313 248.518125\" width=\"386.845313pt\" xmlns=\"http://www.w3.org/2000/svg\" xmlns:xlink=\"http://www.w3.org/1999/xlink\">\r\n <defs>\r\n  <style type=\"text/css\">\r\n*{stroke-linecap:butt;stroke-linejoin:round;}\r\n  </style>\r\n </defs>\r\n <g id=\"figure_1\">\r\n  <g id=\"patch_1\">\r\n   <path d=\"M 0 248.518125 \r\nL 386.845313 248.518125 \r\nL 386.845313 0 \r\nL 0 0 \r\nz\r\n\" style=\"fill:none;\"/>\r\n  </g>\r\n  <g id=\"axes_1\">\r\n   <g id=\"patch_2\">\r\n    <path d=\"M 44.845313 224.64 \r\nL 379.645313 224.64 \r\nL 379.645313 7.2 \r\nL 44.845313 7.2 \r\nz\r\n\" style=\"fill:#ffffff;\"/>\r\n   </g>\r\n   <g id=\"matplotlib.axis_1\">\r\n    <g id=\"xtick_1\">\r\n     <g id=\"line2d_1\">\r\n      <defs>\r\n       <path d=\"M 0 0 \r\nL 0 3.5 \r\n\" id=\"m8d20446b71\" style=\"stroke:#000000;stroke-width:0.8;\"/>\r\n      </defs>\r\n      <g>\r\n       <use style=\"stroke:#000000;stroke-width:0.8;\" x=\"60.063494\" xlink:href=\"#m8d20446b71\" y=\"224.64\"/>\r\n      </g>\r\n     </g>\r\n     <g id=\"text_1\">\r\n      <!-- 0.0 -->\r\n      <defs>\r\n       <path d=\"M 31.78125 66.40625 \r\nQ 24.171875 66.40625 20.328125 58.90625 \r\nQ 16.5 51.421875 16.5 36.375 \r\nQ 16.5 21.390625 20.328125 13.890625 \r\nQ 24.171875 6.390625 31.78125 6.390625 \r\nQ 39.453125 6.390625 43.28125 13.890625 \r\nQ 47.125 21.390625 47.125 36.375 \r\nQ 47.125 51.421875 43.28125 58.90625 \r\nQ 39.453125 66.40625 31.78125 66.40625 \r\nz\r\nM 31.78125 74.21875 \r\nQ 44.046875 74.21875 50.515625 64.515625 \r\nQ 56.984375 54.828125 56.984375 36.375 \r\nQ 56.984375 17.96875 50.515625 8.265625 \r\nQ 44.046875 -1.421875 31.78125 -1.421875 \r\nQ 19.53125 -1.421875 13.0625 8.265625 \r\nQ 6.59375 17.96875 6.59375 36.375 \r\nQ 6.59375 54.828125 13.0625 64.515625 \r\nQ 19.53125 74.21875 31.78125 74.21875 \r\nz\r\n\" id=\"DejaVuSans-48\"/>\r\n       <path d=\"M 10.6875 12.40625 \r\nL 21 12.40625 \r\nL 21 0 \r\nL 10.6875 0 \r\nz\r\n\" id=\"DejaVuSans-46\"/>\r\n      </defs>\r\n      <g transform=\"translate(52.111932 239.238438)scale(0.1 -0.1)\">\r\n       <use xlink:href=\"#DejaVuSans-48\"/>\r\n       <use x=\"63.623047\" xlink:href=\"#DejaVuSans-46\"/>\r\n       <use x=\"95.410156\" xlink:href=\"#DejaVuSans-48\"/>\r\n      </g>\r\n     </g>\r\n    </g>\r\n    <g id=\"xtick_2\">\r\n     <g id=\"line2d_2\">\r\n      <g>\r\n       <use style=\"stroke:#000000;stroke-width:0.8;\" x=\"110.790767\" xlink:href=\"#m8d20446b71\" y=\"224.64\"/>\r\n      </g>\r\n     </g>\r\n     <g id=\"text_2\">\r\n      <!-- 0.5 -->\r\n      <defs>\r\n       <path d=\"M 10.796875 72.90625 \r\nL 49.515625 72.90625 \r\nL 49.515625 64.59375 \r\nL 19.828125 64.59375 \r\nL 19.828125 46.734375 \r\nQ 21.96875 47.46875 24.109375 47.828125 \r\nQ 26.265625 48.1875 28.421875 48.1875 \r\nQ 40.625 48.1875 47.75 41.5 \r\nQ 54.890625 34.8125 54.890625 23.390625 \r\nQ 54.890625 11.625 47.5625 5.09375 \r\nQ 40.234375 -1.421875 26.90625 -1.421875 \r\nQ 22.3125 -1.421875 17.546875 -0.640625 \r\nQ 12.796875 0.140625 7.71875 1.703125 \r\nL 7.71875 11.625 \r\nQ 12.109375 9.234375 16.796875 8.0625 \r\nQ 21.484375 6.890625 26.703125 6.890625 \r\nQ 35.15625 6.890625 40.078125 11.328125 \r\nQ 45.015625 15.765625 45.015625 23.390625 \r\nQ 45.015625 31 40.078125 35.4375 \r\nQ 35.15625 39.890625 26.703125 39.890625 \r\nQ 22.75 39.890625 18.8125 39.015625 \r\nQ 14.890625 38.140625 10.796875 36.28125 \r\nz\r\n\" id=\"DejaVuSans-53\"/>\r\n      </defs>\r\n      <g transform=\"translate(102.839205 239.238438)scale(0.1 -0.1)\">\r\n       <use xlink:href=\"#DejaVuSans-48\"/>\r\n       <use x=\"63.623047\" xlink:href=\"#DejaVuSans-46\"/>\r\n       <use x=\"95.410156\" xlink:href=\"#DejaVuSans-53\"/>\r\n      </g>\r\n     </g>\r\n    </g>\r\n    <g id=\"xtick_3\">\r\n     <g id=\"line2d_3\">\r\n      <g>\r\n       <use style=\"stroke:#000000;stroke-width:0.8;\" x=\"161.51804\" xlink:href=\"#m8d20446b71\" y=\"224.64\"/>\r\n      </g>\r\n     </g>\r\n     <g id=\"text_3\">\r\n      <!-- 1.0 -->\r\n      <defs>\r\n       <path d=\"M 12.40625 8.296875 \r\nL 28.515625 8.296875 \r\nL 28.515625 63.921875 \r\nL 10.984375 60.40625 \r\nL 10.984375 69.390625 \r\nL 28.421875 72.90625 \r\nL 38.28125 72.90625 \r\nL 38.28125 8.296875 \r\nL 54.390625 8.296875 \r\nL 54.390625 0 \r\nL 12.40625 0 \r\nz\r\n\" id=\"DejaVuSans-49\"/>\r\n      </defs>\r\n      <g transform=\"translate(153.566477 239.238438)scale(0.1 -0.1)\">\r\n       <use xlink:href=\"#DejaVuSans-49\"/>\r\n       <use x=\"63.623047\" xlink:href=\"#DejaVuSans-46\"/>\r\n       <use x=\"95.410156\" xlink:href=\"#DejaVuSans-48\"/>\r\n      </g>\r\n     </g>\r\n    </g>\r\n    <g id=\"xtick_4\">\r\n     <g id=\"line2d_4\">\r\n      <g>\r\n       <use style=\"stroke:#000000;stroke-width:0.8;\" x=\"212.245313\" xlink:href=\"#m8d20446b71\" y=\"224.64\"/>\r\n      </g>\r\n     </g>\r\n     <g id=\"text_4\">\r\n      <!-- 1.5 -->\r\n      <g transform=\"translate(204.29375 239.238438)scale(0.1 -0.1)\">\r\n       <use xlink:href=\"#DejaVuSans-49\"/>\r\n       <use x=\"63.623047\" xlink:href=\"#DejaVuSans-46\"/>\r\n       <use x=\"95.410156\" xlink:href=\"#DejaVuSans-53\"/>\r\n      </g>\r\n     </g>\r\n    </g>\r\n    <g id=\"xtick_5\">\r\n     <g id=\"line2d_5\">\r\n      <g>\r\n       <use style=\"stroke:#000000;stroke-width:0.8;\" x=\"262.972585\" xlink:href=\"#m8d20446b71\" y=\"224.64\"/>\r\n      </g>\r\n     </g>\r\n     <g id=\"text_5\">\r\n      <!-- 2.0 -->\r\n      <defs>\r\n       <path d=\"M 19.1875 8.296875 \r\nL 53.609375 8.296875 \r\nL 53.609375 0 \r\nL 7.328125 0 \r\nL 7.328125 8.296875 \r\nQ 12.9375 14.109375 22.625 23.890625 \r\nQ 32.328125 33.6875 34.8125 36.53125 \r\nQ 39.546875 41.84375 41.421875 45.53125 \r\nQ 43.3125 49.21875 43.3125 52.78125 \r\nQ 43.3125 58.59375 39.234375 62.25 \r\nQ 35.15625 65.921875 28.609375 65.921875 \r\nQ 23.96875 65.921875 18.8125 64.3125 \r\nQ 13.671875 62.703125 7.8125 59.421875 \r\nL 7.8125 69.390625 \r\nQ 13.765625 71.78125 18.9375 73 \r\nQ 24.125 74.21875 28.421875 74.21875 \r\nQ 39.75 74.21875 46.484375 68.546875 \r\nQ 53.21875 62.890625 53.21875 53.421875 \r\nQ 53.21875 48.921875 51.53125 44.890625 \r\nQ 49.859375 40.875 45.40625 35.40625 \r\nQ 44.1875 33.984375 37.640625 27.21875 \r\nQ 31.109375 20.453125 19.1875 8.296875 \r\nz\r\n\" id=\"DejaVuSans-50\"/>\r\n      </defs>\r\n      <g transform=\"translate(255.021023 239.238438)scale(0.1 -0.1)\">\r\n       <use xlink:href=\"#DejaVuSans-50\"/>\r\n       <use x=\"63.623047\" xlink:href=\"#DejaVuSans-46\"/>\r\n       <use x=\"95.410156\" xlink:href=\"#DejaVuSans-48\"/>\r\n      </g>\r\n     </g>\r\n    </g>\r\n    <g id=\"xtick_6\">\r\n     <g id=\"line2d_6\">\r\n      <g>\r\n       <use style=\"stroke:#000000;stroke-width:0.8;\" x=\"313.699858\" xlink:href=\"#m8d20446b71\" y=\"224.64\"/>\r\n      </g>\r\n     </g>\r\n     <g id=\"text_6\">\r\n      <!-- 2.5 -->\r\n      <g transform=\"translate(305.748295 239.238438)scale(0.1 -0.1)\">\r\n       <use xlink:href=\"#DejaVuSans-50\"/>\r\n       <use x=\"63.623047\" xlink:href=\"#DejaVuSans-46\"/>\r\n       <use x=\"95.410156\" xlink:href=\"#DejaVuSans-53\"/>\r\n      </g>\r\n     </g>\r\n    </g>\r\n    <g id=\"xtick_7\">\r\n     <g id=\"line2d_7\">\r\n      <g>\r\n       <use style=\"stroke:#000000;stroke-width:0.8;\" x=\"364.427131\" xlink:href=\"#m8d20446b71\" y=\"224.64\"/>\r\n      </g>\r\n     </g>\r\n     <g id=\"text_7\">\r\n      <!-- 3.0 -->\r\n      <defs>\r\n       <path d=\"M 40.578125 39.3125 \r\nQ 47.65625 37.796875 51.625 33 \r\nQ 55.609375 28.21875 55.609375 21.1875 \r\nQ 55.609375 10.40625 48.1875 4.484375 \r\nQ 40.765625 -1.421875 27.09375 -1.421875 \r\nQ 22.515625 -1.421875 17.65625 -0.515625 \r\nQ 12.796875 0.390625 7.625 2.203125 \r\nL 7.625 11.71875 \r\nQ 11.71875 9.328125 16.59375 8.109375 \r\nQ 21.484375 6.890625 26.8125 6.890625 \r\nQ 36.078125 6.890625 40.9375 10.546875 \r\nQ 45.796875 14.203125 45.796875 21.1875 \r\nQ 45.796875 27.640625 41.28125 31.265625 \r\nQ 36.765625 34.90625 28.71875 34.90625 \r\nL 20.21875 34.90625 \r\nL 20.21875 43.015625 \r\nL 29.109375 43.015625 \r\nQ 36.375 43.015625 40.234375 45.921875 \r\nQ 44.09375 48.828125 44.09375 54.296875 \r\nQ 44.09375 59.90625 40.109375 62.90625 \r\nQ 36.140625 65.921875 28.71875 65.921875 \r\nQ 24.65625 65.921875 20.015625 65.03125 \r\nQ 15.375 64.15625 9.8125 62.3125 \r\nL 9.8125 71.09375 \r\nQ 15.4375 72.65625 20.34375 73.4375 \r\nQ 25.25 74.21875 29.59375 74.21875 \r\nQ 40.828125 74.21875 47.359375 69.109375 \r\nQ 53.90625 64.015625 53.90625 55.328125 \r\nQ 53.90625 49.265625 50.4375 45.09375 \r\nQ 46.96875 40.921875 40.578125 39.3125 \r\nz\r\n\" id=\"DejaVuSans-51\"/>\r\n      </defs>\r\n      <g transform=\"translate(356.475568 239.238438)scale(0.1 -0.1)\">\r\n       <use xlink:href=\"#DejaVuSans-51\"/>\r\n       <use x=\"63.623047\" xlink:href=\"#DejaVuSans-46\"/>\r\n       <use x=\"95.410156\" xlink:href=\"#DejaVuSans-48\"/>\r\n      </g>\r\n     </g>\r\n    </g>\r\n   </g>\r\n   <g id=\"matplotlib.axis_2\">\r\n    <g id=\"ytick_1\">\r\n     <g id=\"line2d_8\">\r\n      <defs>\r\n       <path d=\"M 0 0 \r\nL -3.5 0 \r\n\" id=\"mf2bc42759c\" style=\"stroke:#000000;stroke-width:0.8;\"/>\r\n      </defs>\r\n      <g>\r\n       <use style=\"stroke:#000000;stroke-width:0.8;\" x=\"44.845313\" xlink:href=\"#mf2bc42759c\" y=\"207.073634\"/>\r\n      </g>\r\n     </g>\r\n     <g id=\"text_8\">\r\n      <!-- −0.30 -->\r\n      <defs>\r\n       <path d=\"M 10.59375 35.5 \r\nL 73.1875 35.5 \r\nL 73.1875 27.203125 \r\nL 10.59375 27.203125 \r\nz\r\n\" id=\"DejaVuSans-8722\"/>\r\n      </defs>\r\n      <g transform=\"translate(7.2 210.872853)scale(0.1 -0.1)\">\r\n       <use xlink:href=\"#DejaVuSans-8722\"/>\r\n       <use x=\"83.789062\" xlink:href=\"#DejaVuSans-48\"/>\r\n       <use x=\"147.412109\" xlink:href=\"#DejaVuSans-46\"/>\r\n       <use x=\"179.199219\" xlink:href=\"#DejaVuSans-51\"/>\r\n       <use x=\"242.822266\" xlink:href=\"#DejaVuSans-48\"/>\r\n      </g>\r\n     </g>\r\n    </g>\r\n    <g id=\"ytick_2\">\r\n     <g id=\"line2d_9\">\r\n      <g>\r\n       <use style=\"stroke:#000000;stroke-width:0.8;\" x=\"44.845313\" xlink:href=\"#mf2bc42759c\" y=\"168.705214\"/>\r\n      </g>\r\n     </g>\r\n     <g id=\"text_9\">\r\n      <!-- −0.25 -->\r\n      <g transform=\"translate(7.2 172.504432)scale(0.1 -0.1)\">\r\n       <use xlink:href=\"#DejaVuSans-8722\"/>\r\n       <use x=\"83.789062\" xlink:href=\"#DejaVuSans-48\"/>\r\n       <use x=\"147.412109\" xlink:href=\"#DejaVuSans-46\"/>\r\n       <use x=\"179.199219\" xlink:href=\"#DejaVuSans-50\"/>\r\n       <use x=\"242.822266\" xlink:href=\"#DejaVuSans-53\"/>\r\n      </g>\r\n     </g>\r\n    </g>\r\n    <g id=\"ytick_3\">\r\n     <g id=\"line2d_10\">\r\n      <g>\r\n       <use style=\"stroke:#000000;stroke-width:0.8;\" x=\"44.845313\" xlink:href=\"#mf2bc42759c\" y=\"130.336793\"/>\r\n      </g>\r\n     </g>\r\n     <g id=\"text_10\">\r\n      <!-- −0.20 -->\r\n      <g transform=\"translate(7.2 134.136012)scale(0.1 -0.1)\">\r\n       <use xlink:href=\"#DejaVuSans-8722\"/>\r\n       <use x=\"83.789062\" xlink:href=\"#DejaVuSans-48\"/>\r\n       <use x=\"147.412109\" xlink:href=\"#DejaVuSans-46\"/>\r\n       <use x=\"179.199219\" xlink:href=\"#DejaVuSans-50\"/>\r\n       <use x=\"242.822266\" xlink:href=\"#DejaVuSans-48\"/>\r\n      </g>\r\n     </g>\r\n    </g>\r\n    <g id=\"ytick_4\">\r\n     <g id=\"line2d_11\">\r\n      <g>\r\n       <use style=\"stroke:#000000;stroke-width:0.8;\" x=\"44.845313\" xlink:href=\"#mf2bc42759c\" y=\"91.968372\"/>\r\n      </g>\r\n     </g>\r\n     <g id=\"text_11\">\r\n      <!-- −0.15 -->\r\n      <g transform=\"translate(7.2 95.767591)scale(0.1 -0.1)\">\r\n       <use xlink:href=\"#DejaVuSans-8722\"/>\r\n       <use x=\"83.789062\" xlink:href=\"#DejaVuSans-48\"/>\r\n       <use x=\"147.412109\" xlink:href=\"#DejaVuSans-46\"/>\r\n       <use x=\"179.199219\" xlink:href=\"#DejaVuSans-49\"/>\r\n       <use x=\"242.822266\" xlink:href=\"#DejaVuSans-53\"/>\r\n      </g>\r\n     </g>\r\n    </g>\r\n    <g id=\"ytick_5\">\r\n     <g id=\"line2d_12\">\r\n      <g>\r\n       <use style=\"stroke:#000000;stroke-width:0.8;\" x=\"44.845313\" xlink:href=\"#mf2bc42759c\" y=\"53.599951\"/>\r\n      </g>\r\n     </g>\r\n     <g id=\"text_12\">\r\n      <!-- −0.10 -->\r\n      <g transform=\"translate(7.2 57.39917)scale(0.1 -0.1)\">\r\n       <use xlink:href=\"#DejaVuSans-8722\"/>\r\n       <use x=\"83.789062\" xlink:href=\"#DejaVuSans-48\"/>\r\n       <use x=\"147.412109\" xlink:href=\"#DejaVuSans-46\"/>\r\n       <use x=\"179.199219\" xlink:href=\"#DejaVuSans-49\"/>\r\n       <use x=\"242.822266\" xlink:href=\"#DejaVuSans-48\"/>\r\n      </g>\r\n     </g>\r\n    </g>\r\n    <g id=\"ytick_6\">\r\n     <g id=\"line2d_13\">\r\n      <g>\r\n       <use style=\"stroke:#000000;stroke-width:0.8;\" x=\"44.845313\" xlink:href=\"#mf2bc42759c\" y=\"15.23153\"/>\r\n      </g>\r\n     </g>\r\n     <g id=\"text_13\">\r\n      <!-- −0.05 -->\r\n      <g transform=\"translate(7.2 19.030749)scale(0.1 -0.1)\">\r\n       <use xlink:href=\"#DejaVuSans-8722\"/>\r\n       <use x=\"83.789062\" xlink:href=\"#DejaVuSans-48\"/>\r\n       <use x=\"147.412109\" xlink:href=\"#DejaVuSans-46\"/>\r\n       <use x=\"179.199219\" xlink:href=\"#DejaVuSans-48\"/>\r\n       <use x=\"242.822266\" xlink:href=\"#DejaVuSans-53\"/>\r\n      </g>\r\n     </g>\r\n    </g>\r\n   </g>\r\n   <g id=\"line2d_14\">\r\n    <path clip-path=\"url(#p729e38b1f8)\" d=\"M 60.063494 53.599951 \r\nL 63.137874 76.356384 \r\nL 66.212255 97.148509 \r\nL 69.286635 115.998565 \r\nL 72.361015 132.943005 \r\nL 75.435395 148.031612 \r\nL 78.509775 161.326316 \r\nL 81.584155 172.899777 \r\nL 84.658536 182.833783 \r\nL 87.732916 191.217535 \r\nL 90.807296 198.145891 \r\nL 93.881676 203.717613 \r\nL 96.956056 208.033695 \r\nL 100.030436 211.195798 \r\nL 103.104817 213.304834 \r\nL 106.179197 214.459728 \r\nL 109.253577 214.756364 \r\nL 112.327957 214.28672 \r\nL 115.402337 213.138197 \r\nL 118.476717 211.393121 \r\nL 121.551098 209.12841 \r\nL 124.625478 206.415384 \r\nL 127.699858 203.319706 \r\nL 130.774238 199.901424 \r\nL 133.848618 196.215103 \r\nL 136.922998 192.31002 \r\nL 139.997379 188.230418 \r\nL 143.071759 184.015787 \r\nL 146.146139 179.70118 \r\nL 149.220519 175.317528 \r\nL 152.294899 170.891974 \r\nL 155.369279 166.448187 \r\nL 158.44366 162.006685 \r\nL 161.51804 157.585129 \r\nL 164.59242 153.198615 \r\nL 167.6668 148.859936 \r\nL 170.74118 144.579836 \r\nL 173.81556 140.367236 \r\nL 176.889941 136.229449 \r\nL 179.964321 132.172369 \r\nL 183.038701 128.200648 \r\nL 186.113081 124.317849 \r\nL 189.187461 120.526594 \r\nL 192.261841 116.828683 \r\nL 195.336222 113.225215 \r\nL 198.410602 109.716679 \r\nL 201.484982 106.303052 \r\nL 204.559362 102.983871 \r\nL 207.633742 99.758304 \r\nL 210.708122 96.625213 \r\nL 213.782503 93.583204 \r\nL 216.856883 90.630672 \r\nL 219.931263 87.765849 \r\nL 223.005643 84.98683 \r\nL 226.080023 82.291608 \r\nL 229.154403 79.6781 \r\nL 232.228784 77.14417 \r\nL 235.303164 74.687645 \r\nL 238.377544 72.306335 \r\nL 241.451924 69.998047 \r\nL 244.526304 67.760592 \r\nL 247.600684 65.591802 \r\nL 250.675065 63.48953 \r\nL 253.749445 61.451667 \r\nL 256.823825 59.476136 \r\nL 259.898205 57.560907 \r\nL 262.972585 55.703992 \r\nL 266.046965 53.903454 \r\nL 269.121346 52.157405 \r\nL 272.195726 50.464009 \r\nL 275.270106 48.821483 \r\nL 278.344486 47.228097 \r\nL 281.418866 45.682176 \r\nL 284.493246 44.182095 \r\nL 287.567627 42.726285 \r\nL 290.642007 41.313228 \r\nL 293.716387 39.941456 \r\nL 296.790767 38.609552 \r\nL 299.865147 37.31615 \r\nL 302.939527 36.059931 \r\nL 306.013908 34.839622 \r\nL 309.088288 33.653996 \r\nL 312.162668 32.501872 \r\nL 315.237048 31.382109 \r\nL 318.311428 30.293611 \r\nL 321.385808 29.23532 \r\nL 324.460189 28.206218 \r\nL 327.534569 27.205323 \r\nL 330.608949 26.231692 \r\nL 333.683329 25.284414 \r\nL 336.757709 24.362615 \r\nL 339.832089 23.465451 \r\nL 342.90647 22.59211 \r\nL 345.98085 21.741811 \r\nL 349.05523 20.913801 \r\nL 352.12961 20.107355 \r\nL 355.20399 19.321776 \r\nL 358.27837 18.55639 \r\nL 361.352751 17.810552 \r\nL 364.427131 17.083636 \r\n\" style=\"fill:none;stroke:#1f77b4;stroke-linecap:square;stroke-width:1.5;\"/>\r\n   </g>\r\n   <g id=\"patch_3\">\r\n    <path d=\"M 44.845313 224.64 \r\nL 44.845313 7.2 \r\n\" style=\"fill:none;stroke:#000000;stroke-linecap:square;stroke-linejoin:miter;stroke-width:0.8;\"/>\r\n   </g>\r\n   <g id=\"patch_4\">\r\n    <path d=\"M 379.645313 224.64 \r\nL 379.645313 7.2 \r\n\" style=\"fill:none;stroke:#000000;stroke-linecap:square;stroke-linejoin:miter;stroke-width:0.8;\"/>\r\n   </g>\r\n   <g id=\"patch_5\">\r\n    <path d=\"M 44.845313 224.64 \r\nL 379.645313 224.64 \r\n\" style=\"fill:none;stroke:#000000;stroke-linecap:square;stroke-linejoin:miter;stroke-width:0.8;\"/>\r\n   </g>\r\n   <g id=\"patch_6\">\r\n    <path d=\"M 44.845313 7.2 \r\nL 379.645313 7.2 \r\n\" style=\"fill:none;stroke:#000000;stroke-linecap:square;stroke-linejoin:miter;stroke-width:0.8;\"/>\r\n   </g>\r\n  </g>\r\n </g>\r\n <defs>\r\n  <clipPath id=\"p729e38b1f8\">\r\n   <rect height=\"217.44\" width=\"334.8\" x=\"44.845313\" y=\"7.2\"/>\r\n  </clipPath>\r\n </defs>\r\n</svg>\r\n",
      "image/png": "[encoded data removed]"
     },
     "metadata": {
      "needs_background": "light"
     }
    }
   ],
   "source": [
    "x = np.linspace(0,3,100)\n",
    "plt.plot(x, [f(_) for _ in x])"
   ]
  },
  {
   "source": [
    "## Parte 4"
   ],
   "cell_type": "markdown",
   "metadata": {}
  },
  {
   "source": [
    "Para evaluar cual es mejor, se va a hacer la tabla comparativa con los valores de $n = 10,20,30,40,50$. Para hacer estas evaluaciones, se va a utilizar el siguente metodo de evaluacion:\n",
    "\n",
    "$$ \n",
    "RF(N) = \\frac{L_N}{L_0}\n",
    "$$\n",
    "\n",
    "Donde $L_N$ es la longitud despues de $N$ iteraciones y $L_0$ es la longitud inicial del intervalo.\n",
    "\n",
    "\n",
    "Rercodemos para cada metodo, como estan definido $L_N$.\n",
    "\n",
    "* **Busqueda exhaustiva**\n",
    "\n",
    "$$\n",
    "L_N = \\frac{2L_0}{N}\n",
    "$$\n",
    "\n",
    "* **Division de intervalo por la mitad**\n",
    "$$\n",
    "L_N = (\\frac{1}{2})^{N/2}L_0\n",
    "$$\n",
    "\n",
    "* **Fibonacci**\n",
    "$$\n",
    "L_N = \\frac{1}{F_N}L_0\n",
    "$$\n",
    "\n",
    "* **Seccion dorada**\n",
    "$$\n",
    "L_N = (\\tau)^{N - 1} L_0\n",
    "$$\n",
    "\n",
    "Metodo               |N = 10     | N = 20      | N = 30     | N = 40     | N = 50  \n",
    ":--------------------|:---------:|:-----------:|:----------:|:----------:|:--------:\n",
    "Busqueda Exhaustiva  |0.2        |0.01         |0.06667     |0.05        |0.04     \n",
    "Div intervalos Mitad |0.031      |0.00097      |3.05e-5     |9.53e-7     |2.98e-8  \n",
    "Fibonacci            |0.0112     |9.13e-5      |7.42e-7     |6.039e-9    |4.91e-11 \n",
    "Seccion Dorada       |0.01314    |0.0001       |8.68e-7     |7.055e-9    |5.733e-11\n",
    "\n",
    "\n",
    "Los metodos que tienen menor numero de llamadas a la funcion objetivo, en la teoria tanto como en la practica. Comparando con la tabla observada arriba, podemos corroborar que estos dos metodos son los mejores pero se ve que Fibonacci es el que tiene mejor precision."
   ],
   "cell_type": "markdown",
   "metadata": {}
  },
  {
   "cell_type": "code",
   "execution_count": 22,
   "metadata": {},
   "outputs": [
    {
     "output_type": "execute_result",
     "data": {
      "text/plain": [
       "0.04"
      ]
     },
     "metadata": {},
     "execution_count": 22
    }
   ],
   "source": [
    "ln = 2*(3-0)/50; ln/(3-0)"
   ]
  },
  {
   "cell_type": "code",
   "execution_count": 23,
   "metadata": {},
   "outputs": [
    {
     "output_type": "execute_result",
     "data": {
      "text/plain": [
       "2.9802322387695312e-08"
      ]
     },
     "metadata": {},
     "execution_count": 23
    }
   ],
   "source": [
    "ln2 = (1/2)**(50/2) * (3-0); ln2/(3-0)"
   ]
  },
  {
   "cell_type": "code",
   "execution_count": 24,
   "metadata": {},
   "outputs": [],
   "source": [
    "lista_iters = fibonacci(50)"
   ]
  },
  {
   "cell_type": "code",
   "execution_count": 25,
   "metadata": {},
   "outputs": [
    {
     "output_type": "execute_result",
     "data": {
      "text/plain": [
       "4.910382795110283e-11"
      ]
     },
     "metadata": {},
     "execution_count": 25
    }
   ],
   "source": [
    "ln3 = (3-0)/lista_iters[50] ;ln3/(3-0)"
   ]
  },
  {
   "cell_type": "code",
   "execution_count": 26,
   "metadata": {},
   "outputs": [
    {
     "output_type": "execute_result",
     "data": {
      "text/plain": [
       "5.7337041376796644e-11"
      ]
     },
     "metadata": {},
     "execution_count": 26
    }
   ],
   "source": [
    "ln4 = (0.618**(50-1))*(3-0); ln4/(3-0)"
   ]
  },
  {
   "cell_type": "code",
   "execution_count": null,
   "metadata": {},
   "outputs": [],
   "source": []
  }
 ],
 "metadata": {
  "kernelspec": {
   "display_name": "Python 3",
   "language": "python",
   "name": "python3"
  },
  "language_info": {
   "codemirror_mode": {
    "name": "ipython",
    "version": 3
   },
   "file_extension": ".py",
   "mimetype": "text/x-python",
   "name": "python",
   "nbconvert_exporter": "python",
   "pygments_lexer": "ipython3",
   "version": "3.7.4-final"
  }
 },
 "nbformat": 4,
 "nbformat_minor": 2
}